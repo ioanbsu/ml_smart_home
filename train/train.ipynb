{
 "cells": [
  {
   "cell_type": "markdown",
   "source": [
    "NOTE: replace the images input path and destination path in the cmd below."
   ],
   "metadata": {
    "collapsed": false
   }
  },
  {
   "cell_type": "code",
   "execution_count": null,
   "outputs": [],
   "source": [
    "!python yolo_splitter.py --source=/Users/ioanbsu/Downloads/HomeAutomationTrainingDataset --destination /Users/ioanbsu/Downloads/HomeAutomationTrainingDatasetSplit --train_ratio=0.8 --test_ratio=0.1 --val_ratio=0.1"
   ],
   "metadata": {
    "collapsed": false
   }
  },
  {
   "cell_type": "markdown",
   "source": [
    "NOTE: Update the data path to read the data.yaml file from the destination folder that you specified above."
   ],
   "metadata": {
    "collapsed": false
   }
  },
  {
   "cell_type": "code",
   "execution_count": null,
   "outputs": [],
   "source": [
    "!yolo task=detect mode=train model=/Users/ioanbsu/git/ml_smart_home/train/runs/detect/train2/weights/last.pt data=\"/Users/ioanbsu/Downloads/HomeAutomationTrainingDatasetSplit/data.yaml\" batch=10 epochs=600 imgsz=640 device=\"mps\" cache=ram resume=True\n"
   ],
   "metadata": {
    "collapsed": false
   }
  }
 ],
 "metadata": {
  "kernelspec": {
   "name": "tensorflow",
   "language": "python",
   "display_name": "m1_gpu_env"
  },
  "language_info": {
   "codemirror_mode": {
    "name": "ipython",
    "version": 2
   },
   "file_extension": ".py",
   "mimetype": "text/x-python",
   "name": "python",
   "nbconvert_exporter": "python",
   "pygments_lexer": "ipython2",
   "version": "2.7.6"
  }
 },
 "nbformat": 4,
 "nbformat_minor": 0
}
