{
 "cells": [
  {
   "cell_type": "markdown",
   "metadata": {},
   "source": [
    "NOTE: replace the images input path and destination path in the cmd below.\n",
    "\n",
    "DATASET_PATH - replace with path where you downloaded and unzipped the images from label-studio\n",
    "DATASET_PATH_SPLIT - replace with path where you want the \"compiled\" dataset for yolo to be ready to used to be created at."
   ]
  },
  {
   "cell_type": "markdown",
   "source": [],
   "metadata": {
    "collapsed": false
   }
  },
  {
   "cell_type": "code",
   "execution_count": 1,
   "metadata": {
    "ExecuteTime": {
     "end_time": "2023-06-27T18:51:44.340272Z",
     "start_time": "2023-06-27T18:51:43.795434Z"
    }
   },
   "outputs": [],
   "source": [
    "!python yolo_splitter.py --source=DATASET_PATH --destination=DATASET_PATH_SPLIT --train_ratio=0.8 --test_ratio=0.1 --val_ratio=0.1"
   ]
  },
  {
   "cell_type": "markdown",
   "metadata": {},
   "source": [
    "|NOTE: Update the DATASET_PATH_SPLIT to be the same path from cmd above so that yolo can read data.yaml file from the destination folder that you specified above."
   ]
  },
  {
   "cell_type": "code",
   "execution_count": null,
   "metadata": {},
   "outputs": [],
   "source": [
    "!yolo task=detect mode=train model=yolov8x data=\"DATASET_PATH_SPLIT/data.yaml\" batch=10 epochs=100 imgsz=640 device=\"mps\" cache=ram\n"
   ]
  }
 ],
 "metadata": {
  "kernelspec": {
   "name": "ml_smart_home",
   "language": "python",
   "display_name": "ML Smart Home"
  },
  "language_info": {
   "codemirror_mode": {
    "name": "ipython",
    "version": 3
   },
   "file_extension": ".py",
   "mimetype": "text/x-python",
   "name": "python",
   "nbconvert_exporter": "python",
   "pygments_lexer": "ipython3",
   "version": "3.10.11"
  }
 },
 "nbformat": 4,
 "nbformat_minor": 1
}
